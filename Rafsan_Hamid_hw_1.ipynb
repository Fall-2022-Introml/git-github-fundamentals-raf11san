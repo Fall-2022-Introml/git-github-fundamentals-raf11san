{
  "cells": [
    {
      "cell_type": "markdown",
      "metadata": {
        "deletable": false,
        "editable": false,
        "nbgrader": {
          "cell_type": "markdown",
          "checksum": "54f72fb4554e2268686a2e20ab43878f",
          "grade": false,
          "grade_id": "Description",
          "locked": true,
          "schema_version": 3,
          "solution": false,
          "task": false
        },
        "id": "WvZWbQvS8_6M"
      },
      "source": [
        "## Assignment-1\n",
        "##### Total number of points: 50\n",
        "#### Due date: 9/15/2022 11:59 PM\n",
        "\n",
        "Before you submit this homework, make sure everything runs as expected. First, restart the kernel (in the menu, select Kernel → Restart) and then run all cells (in the menubar, select Cell → Run All). You can discuss with others regarding the homework but all work must be your own.\n",
        "\n",
        "Steps to evaluate your solutions:\n",
        "\n",
        "Step-1: Try on Colab or Anaconda (Windows: https://docs.anaconda.com/anaconda/install/windows/ ; Mac:https://docs.anaconda.com/anaconda/install/mac-os/ ; Linux: https://docs.anaconda.com/anaconda/install/linux/)\n",
        "\n",
        "Step-2: Open the Jupyter Notebook by first launching the anaconda software console\n",
        "\n",
        "Step-3: Open the homework's .ipynb file and write your solutions at the appropriate location \"# YOUR CODE HERE\"\n",
        "\n",
        "Step-4: You can restart the kernel and click run all (in the menubar, select Cell → Run All) on the center-right on the top of this window.\n",
        "\n",
        "Step-5: Now go to \"File\" then click on \"Download as\" then click on \"Notebook (.ipynb)\" Please DO NOT change the file name and just keep it as \".ipynb\"\n",
        "\n",
        "Step-6: Go to lms.rpi.edu and upload your homework at the appropriate link to submit this homework.\n",
        "\n",
        "\n",
        "#### Please note that for any question in this assignment you will receive points ONLY if your solution passes all the test cases including hidden testcases as well. So please make sure you try to think all possible scenarios before submitting your answers.  \n",
        "- Note that hidden tests are present to ensure you are not hardcoding. \n",
        "- If caught cheating: \n",
        "    - you will receive a score of 0 for the 1st violation. \n",
        "    - for repeated incidents, you will receive an automatic 'F' grade and will be reported to the dean of Lally School of Management.  "
      ]
    },
    {
      "cell_type": "markdown",
      "metadata": {
        "deletable": false,
        "editable": false,
        "nbgrader": {
          "cell_type": "markdown",
          "checksum": "70641a77be89373ec55592268abee54d",
          "grade": false,
          "grade_id": "q1-desc",
          "locked": true,
          "schema_version": 3,
          "solution": false,
          "task": false
        },
        "id": "fo69q2Mc8_6S"
      },
      "source": [
        "#### Q1[5 points]. Assign the value for `m` to `120`. Set the value for `n` to `100` times `m` , and set the value for `p` to `m` times by `n^2` (square of `n`)."
      ]
    },
    {
      "cell_type": "code",
      "execution_count": 1,
      "metadata": {
        "deletable": false,
        "nbgrader": {
          "cell_type": "code",
          "checksum": "d9065d55c830976f36a7919633224db1",
          "grade": false,
          "grade_id": "q1-sol",
          "locked": false,
          "schema_version": 3,
          "solution": true,
          "task": false
        },
        "id": "gu_PGBFb8_6T"
      },
      "outputs": [],
      "source": [
        "#Assign m ; n; p\n",
        "\n",
        "# YOUR CODE HERE\n",
        "m = 120\n",
        "n = 100 * m\n",
        "p = m * (n ** 2)"
      ]
    },
    {
      "cell_type": "code",
      "execution_count": 34,
      "metadata": {
        "deletable": false,
        "editable": false,
        "nbgrader": {
          "cell_type": "code",
          "checksum": "80f728c3b1516f75456c7e5becc4f37d",
          "grade": true,
          "grade_id": "q1-tests",
          "locked": true,
          "points": 3,
          "schema_version": 3,
          "solution": false,
          "task": false
        },
        "id": "clAhMsEO8_6V"
      },
      "outputs": [],
      "source": [
        "#Don't change this cell.\n",
        "assert m==120\n",
        "assert n==100*120\n",
        "assert p==120*(12000**2)\n"
      ]
    },
    {
      "cell_type": "code",
      "execution_count": 2,
      "metadata": {
        "deletable": false,
        "editable": false,
        "nbgrader": {
          "cell_type": "code",
          "checksum": "b70c4f733a5153c5ebe666595e77991a",
          "grade": true,
          "grade_id": "q1-tests-h",
          "locked": true,
          "points": 2,
          "schema_version": 3,
          "solution": false,
          "task": false
        },
        "id": "us8L6F988_6W",
        "colab": {
          "base_uri": "https://localhost:8080/"
        },
        "outputId": "a46a83ae-1b9b-4997-fc6b-1178b93d6416"
      },
      "outputs": [
        {
          "output_type": "stream",
          "name": "stdout",
          "text": [
            "120 12000 17280000000\n"
          ]
        }
      ],
      "source": [
        "print(m, n, p)"
      ]
    },
    {
      "cell_type": "markdown",
      "metadata": {
        "deletable": false,
        "editable": false,
        "nbgrader": {
          "cell_type": "markdown",
          "checksum": "f059e6aa45930dde63ffc2c2a0b47ccd",
          "grade": false,
          "grade_id": "q21-desc",
          "locked": true,
          "schema_version": 3,
          "solution": false,
          "task": false
        },
        "id": "rY9A5v1O8_6X"
      },
      "source": [
        "#### Q2-1 [5 points]: \n",
        "\n",
        "- Create an empty list `g1`\n",
        "- Create a list `g2` with integers 1, 2, 3\n",
        "- Create a nested list `g3` with `g1` and `g2`\n",
        "- Create a list `g4` with only `4` repeated 3 times.\n",
        "- Create a list `g5` with your firstName and lastName as two separate strings -- for example, g5 that the President would build would be ['joe', 'biden']\n"
      ]
    },
    {
      "cell_type": "code",
      "execution_count": 6,
      "metadata": {
        "deletable": false,
        "nbgrader": {
          "cell_type": "code",
          "checksum": "1346c7721b3a60882177933a0580241a",
          "grade": false,
          "grade_id": "q21-sol",
          "locked": false,
          "schema_version": 3,
          "solution": true,
          "task": false
        },
        "id": "NDvZIHLf8_6Y",
        "colab": {
          "base_uri": "https://localhost:8080/"
        },
        "outputId": "8efc6dfe-7366-48c7-9a9f-140446cf6478"
      },
      "outputs": [
        {
          "output_type": "stream",
          "name": "stdout",
          "text": [
            "[]\n",
            "[1, 2, 3]\n",
            "[[], [1, 2, 3]]\n",
            "[4, 4, 4]\n",
            "['rafsan', 'hamid']\n"
          ]
        }
      ],
      "source": [
        "#Need to create lists according to the instructions\n",
        "\n",
        "# YOUR CODE HERE\n",
        "g1 = []\n",
        "g2 = [1, 2, 3]\n",
        "g3 = [g1, g2]\n",
        "g4 = [4] * 3\n",
        "g5 = ['rafsan', 'hamid']\n",
        "\n",
        "print(g1)\n",
        "print(g2)\n",
        "print(g3)\n",
        "print(g4)\n",
        "print(g5)"
      ]
    },
    {
      "cell_type": "code",
      "execution_count": 33,
      "metadata": {
        "deletable": false,
        "editable": false,
        "nbgrader": {
          "cell_type": "code",
          "checksum": "f7012e96c09e76b27cac986716d54678",
          "grade": true,
          "grade_id": "q21-tests",
          "locked": true,
          "points": 3,
          "schema_version": 3,
          "solution": false,
          "task": false
        },
        "id": "lrnnGFvV8_6h"
      },
      "outputs": [],
      "source": [
        "#Don't change this cell.\n",
        "assert len(g1) == 0\n",
        "assert set(g2) == {1,2,3}\n",
        "assert len(g3) == 2\n",
        "assert len(set(g4)) == 1\n"
      ]
    },
    {
      "cell_type": "code",
      "execution_count": null,
      "metadata": {
        "deletable": false,
        "editable": false,
        "nbgrader": {
          "cell_type": "code",
          "checksum": "68a5b5d706a170ae5a861ce5e5736df2",
          "grade": true,
          "grade_id": "q21-tests-h",
          "locked": true,
          "points": 2,
          "schema_version": 3,
          "solution": false,
          "task": false
        },
        "id": "dU5sYms78_6i"
      },
      "outputs": [],
      "source": [
        "#Don't change this cell."
      ]
    },
    {
      "cell_type": "markdown",
      "metadata": {
        "deletable": false,
        "editable": false,
        "nbgrader": {
          "cell_type": "markdown",
          "checksum": "67ab1fcb2ff1e0b93b5a0cb3df3218ed",
          "grade": false,
          "grade_id": "q22-desc",
          "locked": true,
          "schema_version": 3,
          "solution": false,
          "task": false
        },
        "id": "cMN3UDq18_6j"
      },
      "source": [
        "#### Q2-2 [5 points]: \n",
        "\n",
        "###### Note that all are integers in this list. Please follow the exact order of execution here below from first line to the last line\n",
        "- Create a list `s1` with values in an order -- 10, -10, 20, -20 \n",
        "- Append a new element `30` to list `s1`  \n",
        "- Insert a new element `-30` at position `2`\n",
        "- Insert a new element `15` at position `20` (Yes it is 20 -- check what happens)"
      ]
    },
    {
      "cell_type": "code",
      "execution_count": 14,
      "metadata": {
        "deletable": false,
        "nbgrader": {
          "cell_type": "code",
          "checksum": "fc11b48467b6675d9369155ae1bb15e5",
          "grade": false,
          "grade_id": "q22-sol",
          "locked": false,
          "schema_version": 3,
          "solution": true,
          "task": false
        },
        "id": "D13MGakT8_6l",
        "colab": {
          "base_uri": "https://localhost:8080/"
        },
        "outputId": "d7f7f437-d08c-440d-d069-64291a326d30"
      },
      "outputs": [
        {
          "output_type": "stream",
          "name": "stdout",
          "text": [
            "[10, -10, -30, 20, -20, 30, 15]\n"
          ]
        }
      ],
      "source": [
        "#Need to create li1 according to the instructions above\n",
        "\n",
        "# YOUR CODE HERE\n",
        "s1 = [10, -10, 20, -20]\n",
        "s1.append(30)\n",
        "s1.insert(2, -30)\n",
        "s1.insert(20, 15)\n",
        "\n",
        "print(s1)\n"
      ]
    },
    {
      "cell_type": "code",
      "execution_count": 32,
      "metadata": {
        "deletable": false,
        "editable": false,
        "nbgrader": {
          "cell_type": "code",
          "checksum": "e7348f1e4dfb292ac969a87eb7c5d105",
          "grade": true,
          "grade_id": "q22-tests",
          "locked": true,
          "points": 2,
          "schema_version": 3,
          "solution": false,
          "task": false
        },
        "id": "PdfC9QZu8_6l"
      },
      "outputs": [],
      "source": [
        "#Don't change this cell.\n",
        "assert len(s1)==7\n",
        "assert s1[2]==-30\n"
      ]
    },
    {
      "cell_type": "code",
      "execution_count": null,
      "metadata": {
        "deletable": false,
        "editable": false,
        "nbgrader": {
          "cell_type": "code",
          "checksum": "6cfa2f89433e0e394a1dd7fd66d0aaf1",
          "grade": true,
          "grade_id": "cell-79f335780d278307",
          "locked": true,
          "points": 3,
          "schema_version": 3,
          "solution": false,
          "task": false
        },
        "id": "gfOxCIsC8_6m"
      },
      "outputs": [],
      "source": [
        "#Don't change this cell."
      ]
    },
    {
      "cell_type": "markdown",
      "metadata": {
        "deletable": false,
        "editable": false,
        "nbgrader": {
          "cell_type": "markdown",
          "checksum": "2098e0665853ed512f8ca37f5d2df152",
          "grade": false,
          "grade_id": "q31-desc",
          "locked": true,
          "schema_version": 3,
          "solution": false,
          "task": false
        },
        "id": "lTP93FN38_6m"
      },
      "source": [
        "#### Q3-1 [5 points] \n",
        "\n",
        "###### Create a dictionary `p1` with 5 keys 1, 2, 3, 4, 5 and their corresponding values as 2, 4, 6, 8, 10 respectively. "
      ]
    },
    {
      "cell_type": "code",
      "execution_count": 26,
      "metadata": {
        "deletable": false,
        "nbgrader": {
          "cell_type": "code",
          "checksum": "f59e9dc937c2533f404311e063692ba2",
          "grade": false,
          "grade_id": "q31-sol",
          "locked": false,
          "schema_version": 3,
          "solution": true,
          "task": false
        },
        "id": "bhHGiCMk8_6n",
        "colab": {
          "base_uri": "https://localhost:8080/"
        },
        "outputId": "79877af5-319d-4a81-f317-3085f0f5bd2f"
      },
      "outputs": [
        {
          "output_type": "stream",
          "name": "stdout",
          "text": [
            "{1: 2, 2: 4, 3: 6, 4: 8, 5: 10}\n"
          ]
        },
        {
          "output_type": "execute_result",
          "data": {
            "text/plain": [
              "2"
            ]
          },
          "metadata": {},
          "execution_count": 26
        }
      ],
      "source": [
        "#Creating the dictionary p1\n",
        "\n",
        "# YOUR CODE HERE\n",
        "p1 = {1 : 2, 2 : 4, 3 : 6, 4 : 8, 5 : 10}\n",
        "\n",
        "print(p1)\n",
        "p1[1]"
      ]
    },
    {
      "cell_type": "code",
      "execution_count": 31,
      "metadata": {
        "deletable": false,
        "editable": false,
        "nbgrader": {
          "cell_type": "code",
          "checksum": "3e11af28916ccaed57eb26153f1e7a16",
          "grade": true,
          "grade_id": "q31-tests",
          "locked": true,
          "points": 2,
          "schema_version": 3,
          "solution": false,
          "task": false
        },
        "id": "0Qhk_BtY8_6n"
      },
      "outputs": [],
      "source": [
        "#Don't change this cell.\n",
        "assert len(p1)==5\n",
        "assert p1[3]==6\n",
        "assert p1[5]==10\n"
      ]
    },
    {
      "cell_type": "code",
      "execution_count": null,
      "metadata": {
        "deletable": false,
        "editable": false,
        "nbgrader": {
          "cell_type": "code",
          "checksum": "c8b193c29cdcf78185d786eb8f38ea52",
          "grade": true,
          "grade_id": "q31-tests2",
          "locked": true,
          "points": 3,
          "schema_version": 3,
          "solution": false,
          "task": false
        },
        "id": "MVS2cqL38_6o"
      },
      "outputs": [],
      "source": [
        "#Don't change this cell."
      ]
    },
    {
      "cell_type": "markdown",
      "metadata": {
        "deletable": false,
        "editable": false,
        "nbgrader": {
          "cell_type": "markdown",
          "checksum": "38116f6ee603ba4960cd348aa75baff6",
          "grade": false,
          "grade_id": "q32-desc",
          "locked": true,
          "schema_version": 3,
          "solution": false,
          "task": false
        },
        "id": "BVjfGpy48_6o"
      },
      "source": [
        "#### Q3-2 [5 points] \n",
        "\n",
        "###### Create a dictionary `p2` with 5 keys 1, 2, 3, 4, 5 and their corresponding values as 2, 4, 6, 8, 10 respectively. \n",
        "###### Add a new key-value pair to `p2` with key as `6` and value as `12`"
      ]
    },
    {
      "cell_type": "code",
      "execution_count": 29,
      "metadata": {
        "deletable": false,
        "nbgrader": {
          "cell_type": "code",
          "checksum": "0da5fac60ff8d7b33164be55bdb1904b",
          "grade": false,
          "grade_id": "q32-sol",
          "locked": false,
          "schema_version": 3,
          "solution": true,
          "task": false
        },
        "id": "j-X9qpst8_6o",
        "colab": {
          "base_uri": "https://localhost:8080/"
        },
        "outputId": "195cb2bc-8bf0-468e-f630-00aa9643575e"
      },
      "outputs": [
        {
          "output_type": "stream",
          "name": "stdout",
          "text": [
            "{1: 2, 2: 4, 3: 6, 4: 8, 5: 10, 6: 12}\n"
          ]
        }
      ],
      "source": [
        "from sys import ps2\n",
        "#Creating the dictionary p2 and add a new key-value pair\n",
        "\n",
        "# YOUR CODE HERE\n",
        "p2 = {1 : 2, 2 : 4, 3 : 6, 4 : 8, 5 : 10}\n",
        "p2[6] = 12\n",
        "\n",
        "print(p2)"
      ]
    },
    {
      "cell_type": "code",
      "execution_count": 30,
      "metadata": {
        "deletable": false,
        "editable": false,
        "nbgrader": {
          "cell_type": "code",
          "checksum": "36017aeb4c3a47c5fa673a2e6eaee385",
          "grade": true,
          "grade_id": "q32-tests",
          "locked": true,
          "points": 2,
          "schema_version": 3,
          "solution": false,
          "task": false
        },
        "id": "ioBW6dFg8_6p"
      },
      "outputs": [],
      "source": [
        "#Don't change this cell.\n",
        "assert len(p2)==6\n"
      ]
    },
    {
      "cell_type": "code",
      "execution_count": null,
      "metadata": {
        "deletable": false,
        "editable": false,
        "nbgrader": {
          "cell_type": "code",
          "checksum": "a2cebc1da011c31d5a5a550a45552a32",
          "grade": true,
          "grade_id": "q32-tests2",
          "locked": true,
          "points": 3,
          "schema_version": 3,
          "solution": false,
          "task": false
        },
        "id": "IVq6ADWf8_6p"
      },
      "outputs": [],
      "source": [
        "#Don't change this cell."
      ]
    },
    {
      "cell_type": "markdown",
      "metadata": {
        "deletable": false,
        "editable": false,
        "nbgrader": {
          "cell_type": "markdown",
          "checksum": "87f50d970d4ed070dad7b6ccfe6a30a6",
          "grade": false,
          "grade_id": "q33-desc",
          "locked": true,
          "schema_version": 3,
          "solution": false,
          "task": false
        },
        "id": "8gxrFpPz8_6p"
      },
      "source": [
        "#### Q3-3 [5 points].\n",
        "\n",
        "- Create a list `p31` with numbers 1, 2, 3\n",
        "- Create another list `p32` with strings 'a', 'b', 'c'\n",
        "- Create a dictionary `d3` where length of `p31` is the key and `p32` is the value\n",
        "- Create a list `p33` that contains keys of dictionary `d3`"
      ]
    },
    {
      "cell_type": "code",
      "execution_count": 78,
      "metadata": {
        "deletable": false,
        "nbgrader": {
          "cell_type": "code",
          "checksum": "fc620bac65bceeb5070bdcbf987c5a36",
          "grade": false,
          "grade_id": "q33-sol",
          "locked": false,
          "schema_version": 3,
          "solution": true,
          "task": false
        },
        "id": "3ldTpVcx8_6q",
        "colab": {
          "base_uri": "https://localhost:8080/"
        },
        "outputId": "2e1ca13d-be45-4aab-8aa5-91953617d901"
      },
      "outputs": [
        {
          "output_type": "stream",
          "name": "stdout",
          "text": [
            "[1, 2, 3]\n",
            "['a', 'b', 'c']\n",
            "{3: ['a', 'b', 'c']}\n",
            "[3]\n"
          ]
        }
      ],
      "source": [
        "#Creating l31 and l32 and follow the instructions to create dictionary d3 \n",
        "\n",
        "# YOUR CODE HERE\n",
        "\n",
        "p31 = [1, 2, 3]\n",
        "p32 = ['a', 'b', 'c']\n",
        "d3 = {len(p31) : p32}\n",
        "p33 = list(d3.keys())\n",
        "\n",
        "print(p31)\n",
        "print(p32)\n",
        "print(d3)\n",
        "print(p33)\n",
        "\n"
      ]
    },
    {
      "cell_type": "code",
      "execution_count": 79,
      "metadata": {
        "deletable": false,
        "editable": false,
        "nbgrader": {
          "cell_type": "code",
          "checksum": "8beb33e2c105cdf6c5fec46adcf9b49e",
          "grade": true,
          "grade_id": "q33-tests",
          "locked": true,
          "points": 3,
          "schema_version": 3,
          "solution": false,
          "task": false
        },
        "id": "YWgLVQyI8_6q"
      },
      "outputs": [],
      "source": [
        "#Don't change this cell.\n",
        "assert len(p31)==3\n",
        "assert set(p32)=={'a', 'b','c'}\n",
        "assert len(d3)==1\n",
        "assert len(p33)==1\n"
      ]
    },
    {
      "cell_type": "code",
      "execution_count": null,
      "metadata": {
        "deletable": false,
        "editable": false,
        "nbgrader": {
          "cell_type": "code",
          "checksum": "1d0de902ece5026be419708e0289f4b9",
          "grade": true,
          "grade_id": "q33-tests-h",
          "locked": true,
          "points": 2,
          "schema_version": 3,
          "solution": false,
          "task": false
        },
        "id": "DRQlYhxG8_6r"
      },
      "outputs": [],
      "source": [
        "#Don't change this cell."
      ]
    },
    {
      "cell_type": "markdown",
      "metadata": {
        "deletable": false,
        "editable": false,
        "nbgrader": {
          "cell_type": "markdown",
          "checksum": "66409dbae4231e8fa6e1a6165b039d71",
          "grade": false,
          "grade_id": "q41-desc",
          "locked": true,
          "schema_version": 3,
          "solution": false,
          "task": false
        },
        "id": "MZn5CrXP8_6r"
      },
      "source": [
        "#### Q4-1 [5 points]. \n",
        "\n",
        "- Create a set `S1` with values 1, 2, 3 in the same order as stated. \n",
        "- Assign the variable `Slen` as the length of this set `S1` \n",
        "- Create another set `S2` with values 4, 5, 6 in the same order as stated. \n",
        "- Create a new set `S3` by merging sets `S1` and `S2`"
      ]
    },
    {
      "cell_type": "code",
      "execution_count": 48,
      "metadata": {
        "deletable": false,
        "nbgrader": {
          "cell_type": "code",
          "checksum": "72c7d833d08130e6d9c7bd1f73f26db7",
          "grade": false,
          "grade_id": "q41-sol",
          "locked": false,
          "schema_version": 3,
          "solution": true,
          "task": false
        },
        "id": "ThoUZmvF8_6r",
        "colab": {
          "base_uri": "https://localhost:8080/"
        },
        "outputId": "21776262-c2ad-4d5d-e94b-2bf2e75c70ac"
      },
      "outputs": [
        {
          "output_type": "stream",
          "name": "stdout",
          "text": [
            "{1, 2, 3}\n",
            "3\n",
            "{4, 5, 6}\n",
            "{1, 2, 3, 4, 5, 6}\n"
          ]
        }
      ],
      "source": [
        "#Please follow the above instructions to create S1, S2, S3\n",
        "\n",
        "\n",
        "# YOUR CODE HERE\n",
        "S1 = set([1, 2, 3])\n",
        "Slen = len(S1)\n",
        "S2 = set([4, 5, 6])\n",
        "S3 = S1.union(S2)\n",
        "\n",
        "print(S1)\n",
        "print(Slen)\n",
        "print(S2)\n",
        "print(S3)\n",
        "\n"
      ]
    },
    {
      "cell_type": "code",
      "execution_count": 49,
      "metadata": {
        "deletable": false,
        "editable": false,
        "nbgrader": {
          "cell_type": "code",
          "checksum": "527a5802625d51fe0678d8dd746babfa",
          "grade": true,
          "grade_id": "q41-tests",
          "locked": true,
          "points": 3,
          "schema_version": 3,
          "solution": false,
          "task": false
        },
        "id": "tRNOPMqh8_6s"
      },
      "outputs": [],
      "source": [
        "#Don't change this cell.\n",
        "assert Slen==3\n",
        "assert 1 in S1\n",
        "assert S3=={1, 2, 3, 4, 5, 6}\n"
      ]
    },
    {
      "cell_type": "code",
      "execution_count": 50,
      "metadata": {
        "deletable": false,
        "editable": false,
        "nbgrader": {
          "cell_type": "code",
          "checksum": "81c57b7a47362a2859699de43c94da92",
          "grade": true,
          "grade_id": "q41-tests-h",
          "locked": true,
          "points": 2,
          "schema_version": 3,
          "solution": false,
          "task": false
        },
        "id": "cllAfG7K8_6s"
      },
      "outputs": [],
      "source": [
        "#Don't change this cell."
      ]
    },
    {
      "cell_type": "markdown",
      "metadata": {
        "deletable": false,
        "editable": false,
        "nbgrader": {
          "cell_type": "markdown",
          "checksum": "d026aa7d2ce656d21dbec6d646da0732",
          "grade": false,
          "grade_id": "q42-desc",
          "locked": true,
          "schema_version": 3,
          "solution": false,
          "task": false
        },
        "id": "6xrMEbk_8_6s"
      },
      "source": [
        "#### Q4-2 [5 points]\n",
        "\n",
        "- Create a set `S4` with values 1, 2, 3, 4, 5 passed as strings \n",
        "- Add another string `'6'` to `S4`\n",
        "- Convert each element in S4 which is a string to integer and save this new set as `S5`"
      ]
    },
    {
      "cell_type": "code",
      "execution_count": 82,
      "metadata": {
        "deletable": false,
        "nbgrader": {
          "cell_type": "code",
          "checksum": "e26198608b49949c78247d93665a4b4c",
          "grade": false,
          "grade_id": "q42-sol",
          "locked": false,
          "schema_version": 3,
          "solution": true,
          "task": false
        },
        "id": "NxiHcHru8_6s",
        "colab": {
          "base_uri": "https://localhost:8080/"
        },
        "outputId": "dabc2747-d8b9-41be-8d74-0ae2e1bfcdd4"
      },
      "outputs": [
        {
          "output_type": "stream",
          "name": "stdout",
          "text": [
            "{'4', '3', '5', '1', '2', '6'}\n",
            "{1, 2, 3, 4, 5, 6}\n"
          ]
        }
      ],
      "source": [
        "# YOUR CODE HERE\n",
        "S4 = set(['1', '2', '3', '4', '5'])\n",
        "S4.add('6')\n",
        "S5 = set(map(int, S4))\n",
        "\n",
        "print(S4)\n",
        "print(S5)"
      ]
    },
    {
      "cell_type": "code",
      "execution_count": 70,
      "metadata": {
        "deletable": false,
        "editable": false,
        "nbgrader": {
          "cell_type": "code",
          "checksum": "be3d63c7fb383c5bc4a4a8c507bb9cd3",
          "grade": true,
          "grade_id": "q42-tests",
          "locked": true,
          "points": 5,
          "schema_version": 3,
          "solution": false,
          "task": false
        },
        "id": "2Qpwcw8U8_6s"
      },
      "outputs": [],
      "source": [
        "#Don't change this cell.\n",
        "assert set(S4)=={'1', '2', '3', '4', '5','6'}\n",
        "assert S5=={1, 2, 3, 4, 5, 6}"
      ]
    },
    {
      "cell_type": "markdown",
      "metadata": {
        "deletable": false,
        "editable": false,
        "nbgrader": {
          "cell_type": "markdown",
          "checksum": "48010112e39f90638f35c72fdbec1c9a",
          "grade": false,
          "grade_id": "q5-desc",
          "locked": true,
          "schema_version": 3,
          "solution": false,
          "task": false
        },
        "id": "OQ62neBq8_6t"
      },
      "source": [
        "#### Q5 [5 points]. Write a function `ReturnList` that takes a number `num` (where `num` is >0) and returns a list of numbers from 0 to `num` (inclusive). If number `num`<=0 return `[-1]`. "
      ]
    },
    {
      "cell_type": "code",
      "execution_count": 89,
      "metadata": {
        "deletable": false,
        "nbgrader": {
          "cell_type": "code",
          "checksum": "16656660dc15f95c5005697128324e4d",
          "grade": false,
          "grade_id": "q5-sol",
          "locked": false,
          "schema_version": 3,
          "solution": true,
          "task": false
        },
        "id": "7kmPEXGe8_6t",
        "colab": {
          "base_uri": "https://localhost:8080/"
        },
        "outputId": "6d3135b6-680b-4fbe-bd19-07bd040334e1"
      },
      "outputs": [
        {
          "output_type": "execute_result",
          "data": {
            "text/plain": [
              "[0, 1, 2, 3, 4, 5, 6, 7, 8, 9, 10, 11, 12, 13, 14, 15]"
            ]
          },
          "metadata": {},
          "execution_count": 89
        }
      ],
      "source": [
        "\n",
        "def ReturnList(num):\n",
        "  numlist = []\n",
        "  if num <= 0:\n",
        "    return [-1]\n",
        "  else:\n",
        "    for i in range(0, num + 1):\n",
        "      numlist.append(i)\n",
        "    return numlist\n",
        "\n",
        "ReturnList(0)\n",
        "ReturnList(15)\n"
      ]
    },
    {
      "cell_type": "code",
      "execution_count": 90,
      "metadata": {
        "deletable": false,
        "editable": false,
        "nbgrader": {
          "cell_type": "code",
          "checksum": "db771db85948b0395f4766baff0786c8",
          "grade": true,
          "grade_id": "q5-tests",
          "locked": true,
          "points": 3,
          "schema_version": 3,
          "solution": false,
          "task": false
        },
        "id": "nw8G5dOY8_6t"
      },
      "outputs": [],
      "source": [
        "#Don't change this cell.\n",
        "assert ReturnList(3)==[0, 1, 2, 3]\n",
        "assert ReturnList(4)==[0, 1, 2, 3, 4]\n",
        "assert ReturnList(6)==[0, 1, 2, 3, 4, 5, 6]\n"
      ]
    },
    {
      "cell_type": "code",
      "execution_count": null,
      "metadata": {
        "deletable": false,
        "editable": false,
        "nbgrader": {
          "cell_type": "code",
          "checksum": "101c62481465e59e23110169cd692483",
          "grade": true,
          "grade_id": "q5-tests-h",
          "locked": true,
          "points": 2,
          "schema_version": 3,
          "solution": false,
          "task": false
        },
        "id": "R5vXzsai8_6t"
      },
      "outputs": [],
      "source": [
        "#Don't change this cell."
      ]
    },
    {
      "cell_type": "markdown",
      "metadata": {
        "deletable": false,
        "editable": false,
        "nbgrader": {
          "cell_type": "markdown",
          "checksum": "3d5ddd4039dfb2c93866a667e145e582",
          "grade": false,
          "grade_id": "q6-desc",
          "locked": true,
          "schema_version": 3,
          "solution": false,
          "task": false
        },
        "id": "9_1_VGOz8_6u"
      },
      "source": [
        "#### Q6 [5 points]. Write a function `RepeatNums` that takes two numbers `num1` and `num2`. This function should return a list of numbers, where the length of the list is `num2`. \n",
        "\n",
        "##### All the numbers in this list should be equal to `num1`. In other words, create a list that contains `num1` that is repeated `num2` number of times.\n",
        "##### If `num1 <= 0` or `num2 <= 0` return `[-1]`"
      ]
    },
    {
      "cell_type": "code",
      "execution_count": 92,
      "metadata": {
        "deletable": false,
        "nbgrader": {
          "cell_type": "code",
          "checksum": "0048240e42ecf1eafc130296a4657894",
          "grade": false,
          "grade_id": "q6-sol",
          "locked": false,
          "schema_version": 3,
          "solution": true,
          "task": false
        },
        "id": "VZq7ciJQ8_6u",
        "colab": {
          "base_uri": "https://localhost:8080/"
        },
        "outputId": "9d11298d-1d78-4422-adfa-80a254a304be"
      },
      "outputs": [
        {
          "output_type": "execute_result",
          "data": {
            "text/plain": [
              "[4, 4, 4, 4, 4, 4, 4, 4]"
            ]
          },
          "metadata": {},
          "execution_count": 92
        }
      ],
      "source": [
        "def RepeatNums(num1, num2):\n",
        "  if num1 <= 0 or num2 <= 0:\n",
        "    return [-1]\n",
        "  else:\n",
        "    return [num1] * num2\n",
        "\n",
        "RepeatNums(4, 8)"
      ]
    },
    {
      "cell_type": "code",
      "execution_count": 93,
      "metadata": {
        "deletable": false,
        "editable": false,
        "nbgrader": {
          "cell_type": "code",
          "checksum": "64730f298d6a25b0fd8f7e399c436ef4",
          "grade": true,
          "grade_id": "q6-tests",
          "locked": true,
          "points": 3,
          "schema_version": 3,
          "solution": false,
          "task": false
        },
        "id": "3-9YATsF8_6u"
      },
      "outputs": [],
      "source": [
        "#Don't change this cell.\n",
        "assert RepeatNums(3,2)==[3, 3]\n",
        "assert RepeatNums(2,4)==[2, 2, 2, 2]\n",
        "assert RepeatNums(6,1)==[6]\n"
      ]
    },
    {
      "cell_type": "code",
      "execution_count": null,
      "metadata": {
        "deletable": false,
        "editable": false,
        "nbgrader": {
          "cell_type": "code",
          "checksum": "8d1bdcc8b4df68381a3a1ded048ef8ab",
          "grade": true,
          "grade_id": "cell-3f81841c81b2a3f2",
          "locked": true,
          "points": 2,
          "schema_version": 3,
          "solution": false,
          "task": false
        },
        "id": "Ree9C9BA8_6v"
      },
      "outputs": [],
      "source": [
        "#Don't change this cell."
      ]
    }
  ],
  "metadata": {
    "kernelspec": {
      "display_name": "Python 3",
      "language": "python",
      "name": "python3"
    },
    "language_info": {
      "codemirror_mode": {
        "name": "ipython",
        "version": 3
      },
      "file_extension": ".py",
      "mimetype": "text/x-python",
      "name": "python",
      "nbconvert_exporter": "python",
      "pygments_lexer": "ipython3",
      "version": "3.7.10"
    },
    "colab": {
      "provenance": [],
      "collapsed_sections": []
    }
  },
  "nbformat": 4,
  "nbformat_minor": 0
}