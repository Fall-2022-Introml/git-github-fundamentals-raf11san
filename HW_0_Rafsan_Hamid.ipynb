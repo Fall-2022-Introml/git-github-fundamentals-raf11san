{
 "cells": [
  {
   "cell_type": "markdown",
   "id": "369e9f6b",
   "metadata": {},
   "source": [
    "# HW 0 - *Rafsan Hamid*\n",
    "*Due September 6, 2022*\n",
    "> This is my submission for **HW 0**."
   ]
  },
  {
   "cell_type": "markdown",
   "id": "ae07e277",
   "metadata": {},
   "source": [
    "## My Skills\n",
    "1. Excel - Advanced\n",
    "2. SQL - Intermediate\n",
    "3. R-Studio - Intermediate\n",
    "4. Python - Intermediate"
   ]
  },
  {
   "cell_type": "markdown",
   "id": "92f2e07c",
   "metadata": {},
   "source": [
    "## Assigning a Variable using Python\n",
    "```python\n",
    "s = \"Example of assigning variable in Python\"\n",
    "print(s)\n",
    "```"
   ]
  },
  {
   "cell_type": "code",
   "execution_count": 2,
   "id": "0bb522e1",
   "metadata": {},
   "outputs": [
    {
     "name": "stdout",
     "output_type": "stream",
     "text": [
      "Example of assigning variable in Python\n"
     ]
    }
   ],
   "source": [
    "s = \"Example of assigning variable in Python\"\n",
    "print(s)"
   ]
  }
 ],
 "metadata": {
  "kernelspec": {
   "display_name": "Python 3",
   "language": "python",
   "name": "python3"
  },
  "language_info": {
   "codemirror_mode": {
    "name": "ipython",
    "version": 3
   },
   "file_extension": ".py",
   "mimetype": "text/x-python",
   "name": "python",
   "nbconvert_exporter": "python",
   "pygments_lexer": "ipython3",
   "version": "3.8.8"
  }
 },
 "nbformat": 4,
 "nbformat_minor": 5
}
