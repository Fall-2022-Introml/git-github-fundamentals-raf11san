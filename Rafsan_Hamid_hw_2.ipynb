{
  "cells": [
    {
      "cell_type": "markdown",
      "id": "tight-staff",
      "metadata": {
        "deletable": false,
        "editable": false,
        "nbgrader": {
          "cell_type": "markdown",
          "checksum": "160c05935e95eb48f1ea40f3804c5892",
          "grade": false,
          "grade_id": "Desc",
          "locked": true,
          "schema_version": 3,
          "solution": false,
          "task": false
        },
        "id": "tight-staff"
      },
      "source": [
        "#### [Fall 2022] Homework-2 \n",
        "##### Total number of points: 70\n",
        "#### Due date: September 22nd, 2022\n",
        "\n",
        "Before you submit this homework, make sure everything runs as expected. First, restart the kernel (in the menu, select Kernel → Restart) and then run all cells (in the menubar, select Cell → Run All). You can discuss with others regarding the homework but all work must be your own.\n",
        "\n",
        "This homework will test your knowledge on basics of Python. The Python notebooks shared will be helpful to solve these problems. \n",
        "\n",
        "Steps to evaluate your solutions:\n",
        "\n",
        "Step-1: Ensure you have installed Anaconda (Windows: https://docs.anaconda.com/anaconda/install/windows/ ; Mac:https://docs.anaconda.com/anaconda/install/mac-os/ ; Linux: https://docs.anaconda.com/anaconda/install/linux/)\n",
        "\n",
        "Step-2: Open the Jupyter Notebook by first launching the anaconda software console\n",
        "\n",
        "Step-3: Open the .ipynb file and write your solutions at the appropriate location \"# YOUR CODE HERE\"\n",
        "\n",
        "Step-4: You can restart the kernel and click run all (in the menubar, select Cell → Run All) on the center-right on the top of this window.\n",
        "\n",
        "Step-5: Now go to \"File\" then click on \"Download as\" then click on \"Notebook (.ipynb)\" Please DO NOT change the file name and just keep it as .ipynb file format\n",
        "\n",
        "Step-6: Go to lms.rpi.edu and upload your homework at the appropriate link to submit this homework.\n",
        "\n",
        "#### Please note that for any question in this assignment you will receive points ONLY if your solution passes all the test cases including hidden testcases as well. So please make sure you try to think all possible scenarios before submitting your answers.  \n",
        "- Note that hidden tests are present to ensure you are not hardcoding. \n",
        "- If caught cheating: \n",
        "    - you will receive a score of 0 for the 1st violation. \n",
        "    - for repeated incidents, you will receive an automatic 'F' grade and will be reported to the dean of Lally School of Management. "
      ]
    },
    {
      "cell_type": "markdown",
      "id": "perfect-private",
      "metadata": {
        "deletable": false,
        "editable": false,
        "nbgrader": {
          "cell_type": "markdown",
          "checksum": "6c29d63577945b8ff4b1f1e80267ab16",
          "grade": false,
          "grade_id": "q1-desc",
          "locked": true,
          "schema_version": 3,
          "solution": false,
          "task": false
        },
        "id": "perfect-private"
      },
      "source": [
        "#### Q1 [10 points]. Write a function that takes a number and checks if it is a composite number. Return `True` if its a composite number or else `False`.\n",
        "\n",
        "- A number is composite when it has more than two factors -- which means apart from getting divided by 1 and the number itself, it can also be divided by at least one positive integer. \n"
      ]
    },
    {
      "cell_type": "code",
      "execution_count": 179,
      "id": "boxed-telling",
      "metadata": {
        "deletable": false,
        "nbgrader": {
          "cell_type": "code",
          "checksum": "7ec18611bc0dbce3bc746033af2c4342",
          "grade": false,
          "grade_id": "q1-sol",
          "locked": false,
          "schema_version": 3,
          "solution": true,
          "task": false
        },
        "id": "boxed-telling"
      },
      "outputs": [],
      "source": [
        "'''Write a program to check if a given number is a composite number or not.\n",
        "    A number is composite if there are more than two factors 1, itself, and atleast one positive integer. \n",
        "    The program returns -- True, if it is a composite number; otherwise False. Assume that you will be receiving only positive integers (>=0) as the input parameters. \n",
        "    '''\n",
        "\n",
        "def isComposite(num):\n",
        "    count = 0\n",
        "    if num == 1:\n",
        "      return True\n",
        "    else:\n",
        "      for x in range(1, num):\n",
        "        if num % x == 0:\n",
        "          count += 1\n",
        "      if count > 1:\n",
        "        return True\n",
        "      else:\n",
        "        return False\n",
        "\n"
      ]
    },
    {
      "cell_type": "code",
      "execution_count": 180,
      "id": "motivated-watch",
      "metadata": {
        "deletable": false,
        "editable": false,
        "nbgrader": {
          "cell_type": "code",
          "checksum": "f7596d8bd0f430da726e293a8d1f6539",
          "grade": true,
          "grade_id": "1",
          "locked": true,
          "points": 6,
          "schema_version": 3,
          "solution": false,
          "task": false
        },
        "id": "motivated-watch"
      },
      "outputs": [],
      "source": [
        "#Test cell-1 [6 pts]\n",
        "#DO NOT MODIFY/DELETE THIS CELL \n",
        "\n",
        "'''case-1'''\n",
        "number=1\n",
        "assert isComposite(number) == True\n",
        "\n",
        "'''case-2'''\n",
        "number = 10\n",
        "assert isComposite(number)== True\n",
        "\n",
        "'''case-3'''\n",
        "number = 97\n",
        "assert isComposite(number) == False\n"
      ]
    },
    {
      "cell_type": "code",
      "execution_count": 181,
      "id": "intimate-movie",
      "metadata": {
        "deletable": false,
        "editable": false,
        "nbgrader": {
          "cell_type": "code",
          "checksum": "e71652ccf91d5479921c107aede99f5f",
          "grade": true,
          "grade_id": "2a",
          "locked": true,
          "points": 2,
          "schema_version": 3,
          "solution": false,
          "task": false
        },
        "id": "intimate-movie"
      },
      "outputs": [],
      "source": [
        "#Test cell-2 [2 pts]\n",
        "#DO NOT MODIFY/DELETE THIS CELL \n"
      ]
    },
    {
      "cell_type": "code",
      "execution_count": 182,
      "id": "5fe641f0",
      "metadata": {
        "deletable": false,
        "editable": false,
        "nbgrader": {
          "cell_type": "code",
          "checksum": "ba78e5a04590d53a59980b78c0a9132d",
          "grade": true,
          "grade_id": "2b",
          "locked": true,
          "points": 2,
          "schema_version": 3,
          "solution": false,
          "task": false
        },
        "id": "5fe641f0"
      },
      "outputs": [],
      "source": [
        "#2 [2 pts]\n",
        "#DO NOT MODIFY/DELETE THIS CELL "
      ]
    },
    {
      "cell_type": "markdown",
      "id": "pregnant-marker",
      "metadata": {
        "deletable": false,
        "editable": false,
        "nbgrader": {
          "cell_type": "markdown",
          "checksum": "47f6fd92837742ab3cb2f6fbc12a6716",
          "grade": false,
          "grade_id": "q2-desc",
          "locked": true,
          "schema_version": 3,
          "solution": false,
          "task": false
        },
        "id": "pregnant-marker"
      },
      "source": [
        "#### Q2 [5 points]. import the numpy package as np. "
      ]
    },
    {
      "cell_type": "code",
      "execution_count": 183,
      "id": "concrete-crest",
      "metadata": {
        "deletable": false,
        "nbgrader": {
          "cell_type": "code",
          "checksum": "50fba7759bc4e07f7a9bd434da80b12a",
          "grade": false,
          "grade_id": "q2-sol",
          "locked": false,
          "schema_version": 3,
          "solution": true,
          "task": false
        },
        "id": "concrete-crest"
      },
      "outputs": [],
      "source": [
        "\n",
        "'''Note that ONLY if you get this solution right all the below questions will be executed'''\n",
        "\n",
        "import numpy as np\n",
        "\n"
      ]
    },
    {
      "cell_type": "code",
      "execution_count": 184,
      "id": "biblical-breach",
      "metadata": {
        "deletable": false,
        "editable": false,
        "nbgrader": {
          "cell_type": "code",
          "checksum": "905db2724375badf6f89233ed6d9a877",
          "grade": true,
          "grade_id": "3",
          "locked": true,
          "points": 5,
          "schema_version": 3,
          "solution": false,
          "task": false
        },
        "id": "biblical-breach"
      },
      "outputs": [],
      "source": [
        "#Test cell-3 [5 pts]\n",
        "#DO NOT MODIFY/DELETE THIS CELL \n",
        "assert np.prod([1,2,3])==6"
      ]
    },
    {
      "cell_type": "markdown",
      "id": "alternate-scanner",
      "metadata": {
        "deletable": false,
        "editable": false,
        "nbgrader": {
          "cell_type": "markdown",
          "checksum": "269860d1ff2cef484facbdb56c3047ca",
          "grade": false,
          "grade_id": "q3-desc",
          "locked": true,
          "schema_version": 3,
          "solution": false,
          "task": false
        },
        "id": "alternate-scanner"
      },
      "source": [
        "#### Q3 [5 points]. Create a numpy array called `arr3` of zeros of size 10 where the sixth element is 1. \n"
      ]
    },
    {
      "cell_type": "code",
      "execution_count": 185,
      "id": "tender-sally",
      "metadata": {
        "deletable": false,
        "nbgrader": {
          "cell_type": "code",
          "checksum": "646c609a684696366791b395ef67e7b9",
          "grade": false,
          "grade_id": "q3-sol",
          "locked": false,
          "schema_version": 3,
          "solution": true,
          "task": false
        },
        "id": "tender-sally",
        "colab": {
          "base_uri": "https://localhost:8080/"
        },
        "outputId": "6c7193c7-3acf-490f-faad-2d7809c0bccb"
      },
      "outputs": [
        {
          "output_type": "execute_result",
          "data": {
            "text/plain": [
              "array([0, 0, 0, 0, 0, 1, 0, 0, 0, 0])"
            ]
          },
          "metadata": {},
          "execution_count": 185
        }
      ],
      "source": [
        "arr3 = np.array([0] * 10)\n",
        "arr3[5] = 1\n",
        "\n",
        "arr3"
      ]
    },
    {
      "cell_type": "code",
      "execution_count": 186,
      "id": "framed-aspect",
      "metadata": {
        "deletable": false,
        "editable": false,
        "nbgrader": {
          "cell_type": "code",
          "checksum": "923191e31bc775d0757d015d822e74be",
          "grade": true,
          "grade_id": "4",
          "locked": true,
          "points": 3,
          "schema_version": 3,
          "solution": false,
          "task": false
        },
        "id": "framed-aspect"
      },
      "outputs": [],
      "source": [
        "#Test cell-4 [3 pts]\n",
        "#DO NOT MODIFY/DELETE THIS CELL \n",
        "\n",
        "assert isinstance(arr3, np.ndarray)\n",
        "assert arr3[:5].all() == 0\n",
        "assert arr3[5] == 1\n"
      ]
    },
    {
      "cell_type": "code",
      "execution_count": 187,
      "id": "geographic-hacker",
      "metadata": {
        "deletable": false,
        "editable": false,
        "nbgrader": {
          "cell_type": "code",
          "checksum": "2021b9d98e8ccc35c63aa61157bfafa3",
          "grade": true,
          "grade_id": "5",
          "locked": true,
          "points": 2,
          "schema_version": 3,
          "solution": false,
          "task": false
        },
        "id": "geographic-hacker"
      },
      "outputs": [],
      "source": [
        "#Test cell-5 [2 pts]\n",
        "#DO NOT MODIFY/DELETE THIS CELL \n"
      ]
    },
    {
      "cell_type": "markdown",
      "id": "yellow-account",
      "metadata": {
        "deletable": false,
        "editable": false,
        "nbgrader": {
          "cell_type": "markdown",
          "checksum": "766b552c377d0e2177b42f4f1ef3b6d3",
          "grade": false,
          "grade_id": "q4-desc",
          "locked": true,
          "schema_version": 3,
          "solution": false,
          "task": false
        },
        "id": "yellow-account"
      },
      "source": [
        "#### Q4 [5 points]. Create a numpy array `arr4` with elements 1,3,5,7,9,11 (in the same order)\n",
        "#### Now create a new array `arr41` whose elements are twice the value of each element in `arr4` at the same index respectively. \n"
      ]
    },
    {
      "cell_type": "code",
      "execution_count": 188,
      "id": "earlier-chaos",
      "metadata": {
        "deletable": false,
        "nbgrader": {
          "cell_type": "code",
          "checksum": "973df682b3c8ee67a65b1a60d1b8ba4b",
          "grade": false,
          "grade_id": "q4-sol",
          "locked": false,
          "schema_version": 3,
          "solution": true,
          "task": false
        },
        "id": "earlier-chaos"
      },
      "outputs": [],
      "source": [
        "arr4 = np.array([1, 3, 5, 7, 9, 11])\n",
        "arr41 = arr4 * 2\n"
      ]
    },
    {
      "cell_type": "code",
      "execution_count": 189,
      "id": "unlike-vessel",
      "metadata": {
        "deletable": false,
        "editable": false,
        "nbgrader": {
          "cell_type": "code",
          "checksum": "d18c38eb41f2eee21cc1827d5aa6f933",
          "grade": true,
          "grade_id": "6",
          "locked": true,
          "points": 4,
          "schema_version": 3,
          "solution": false,
          "task": false
        },
        "id": "unlike-vessel"
      },
      "outputs": [],
      "source": [
        "#Test cell-6 [4 pts]\n",
        "#DO NOT MODIFY/DELETE THIS CELL \n",
        "\n",
        "assert isinstance(arr4, np.ndarray)\n",
        "assert arr4[2] == 5\n",
        "assert arr41[2] == 10\n",
        "assert arr41[1] == 6\n"
      ]
    },
    {
      "cell_type": "code",
      "execution_count": 190,
      "id": "alike-pension",
      "metadata": {
        "deletable": false,
        "editable": false,
        "nbgrader": {
          "cell_type": "code",
          "checksum": "800046d35a08534a347c244fe49b936a",
          "grade": true,
          "grade_id": "7",
          "locked": true,
          "points": 1,
          "schema_version": 3,
          "solution": false,
          "task": false
        },
        "id": "alike-pension"
      },
      "outputs": [],
      "source": [
        "#Test cell-7 [1 pts]\n",
        "#DO NOT MODIFY/DELETE THIS CELL \n"
      ]
    },
    {
      "cell_type": "markdown",
      "id": "sized-brief",
      "metadata": {
        "deletable": false,
        "editable": false,
        "nbgrader": {
          "cell_type": "markdown",
          "checksum": "4bc3f978ef556a66a5f76aa5800d6044",
          "grade": false,
          "grade_id": "q5-desc",
          "locked": true,
          "schema_version": 3,
          "solution": false,
          "task": false
        },
        "id": "sized-brief"
      },
      "source": [
        "#### Q5 [10 points]. Return the sum of absolute values of elements that occur maximum number of times and minimum number of times in a numpy array. \n",
        "- abs() is a function used to return absolute values of a given number. For example, abs(-3) = 3 and abs(3) = 3 \n",
        "- if there are two (or more) elements occuring with same frequency and are occurring maximum number of times, choose the element that is smaller in value\n",
        "- if there are two (or more) elements occuring with same frequency and are occurring minimum number of times, choose the element that is smaller in value\n"
      ]
    },
    {
      "cell_type": "code",
      "execution_count": 191,
      "id": "bibliographic-stephen",
      "metadata": {
        "deletable": false,
        "nbgrader": {
          "cell_type": "code",
          "checksum": "6520b858b240cdaa58909eae6dbfb4e5",
          "grade": false,
          "grade_id": "q5-sol",
          "locked": false,
          "schema_version": 3,
          "solution": true,
          "task": false
        },
        "id": "bibliographic-stephen"
      },
      "outputs": [],
      "source": [
        "    \"\"\"Returns the sum between \n",
        "    element that occurs maximum number of times and element that occurs minimum number of times\n",
        "    \"\"\"\n",
        "def SumMinMax(arr5):\n",
        "  maxmode = (np.bincount(arr5).argmax())\n",
        "  minmode = (np.bincount(arr5).argmin())\n",
        "  return(abs(maxmode+minmode))"
      ]
    },
    {
      "cell_type": "code",
      "execution_count": 192,
      "id": "requested-lying",
      "metadata": {
        "deletable": false,
        "editable": false,
        "nbgrader": {
          "cell_type": "code",
          "checksum": "90abb65cb3ca9e9ba542c49557db1246",
          "grade": true,
          "grade_id": "8",
          "locked": true,
          "points": 10,
          "schema_version": 3,
          "solution": false,
          "task": false
        },
        "id": "requested-lying"
      },
      "outputs": [],
      "source": [
        "#Test cell-8 [10 pts]\n",
        "#DO NOT MODIFY/DELETE THIS CELL \n",
        "\n",
        "arr3=np.array([1,0,1,0,2,1])\n",
        "assert SumMinMax(arr3)==3\n",
        "\n",
        "arr3=np.array([0])\n",
        "assert SumMinMax(arr3)==0\n",
        "\n",
        "arr3=np.array([1,2,3,1,2,3,1,1,0,0,4])\n",
        "assert SumMinMax(arr3)==5\n",
        "\n",
        "arr3=np.array([1,2,3,0])\n",
        "assert SumMinMax(arr3)==0"
      ]
    },
    {
      "cell_type": "code",
      "execution_count": 193,
      "id": "helpful-mexican",
      "metadata": {
        "deletable": false,
        "editable": false,
        "nbgrader": {
          "cell_type": "code",
          "checksum": "6831d311873d76ccbb437f98853c2801",
          "grade": false,
          "grade_id": "runthis",
          "locked": true,
          "schema_version": 3,
          "solution": false,
          "task": false
        },
        "id": "helpful-mexican",
        "colab": {
          "base_uri": "https://localhost:8080/",
          "height": 35
        },
        "outputId": "0ac67d3c-4a39-4718-cf0a-66980ec0c77d"
      },
      "outputs": [
        {
          "output_type": "execute_result",
          "data": {
            "text/plain": [
              "'Make sure you run this cell before executing the cells below'"
            ],
            "application/vnd.google.colaboratory.intrinsic+json": {
              "type": "string"
            }
          },
          "metadata": {},
          "execution_count": 193
        }
      ],
      "source": [
        "import pandas as pd\n",
        "\n",
        "'''Make sure you run this cell before executing the cells below'''"
      ]
    },
    {
      "cell_type": "markdown",
      "id": "tamil-coach",
      "metadata": {
        "deletable": false,
        "editable": false,
        "nbgrader": {
          "cell_type": "markdown",
          "checksum": "cedd76aed5d76f10ebed59e72ec362b9",
          "grade": false,
          "grade_id": "q6-desc",
          "locked": true,
          "schema_version": 3,
          "solution": false,
          "task": false
        },
        "id": "tamil-coach"
      },
      "source": [
        "#### Q6 [5 points]. Please follow the instructions very carefully \n",
        "- Create a list `l6` and assign values 1, 2, 3, 4, 5, 6 to this list in the same order as listed here.\n",
        "- Use `l6` to create a series `S6` with a default index\n"
      ]
    },
    {
      "cell_type": "code",
      "execution_count": 194,
      "id": "flying-bangkok",
      "metadata": {
        "deletable": false,
        "nbgrader": {
          "cell_type": "code",
          "checksum": "de5addedf782ab2bce0b066fb64eeef8",
          "grade": false,
          "grade_id": "q6-sol",
          "locked": false,
          "schema_version": 3,
          "solution": true,
          "task": false
        },
        "id": "flying-bangkok"
      },
      "outputs": [],
      "source": [
        "l6 = [1, 2, 3, 4, 5, 6]\n",
        "S6 = pd.Series(l6)"
      ]
    },
    {
      "cell_type": "code",
      "execution_count": 195,
      "id": "owned-delta",
      "metadata": {
        "deletable": false,
        "editable": false,
        "nbgrader": {
          "cell_type": "code",
          "checksum": "d7809a26e5e56c32e39659d40f26b0b0",
          "grade": true,
          "grade_id": "9",
          "locked": true,
          "points": 3,
          "schema_version": 3,
          "solution": false,
          "task": false
        },
        "id": "owned-delta"
      },
      "outputs": [],
      "source": [
        "#Test cell-9 [3 pts]\n",
        "#DO NOT MODIFY/DELETE THIS CELL \n",
        "\n",
        "assert len(l6)==6\n",
        "assert max(l6)==6\n",
        "assert S6[3]==4\n"
      ]
    },
    {
      "cell_type": "code",
      "execution_count": 196,
      "id": "essential-legislation",
      "metadata": {
        "deletable": false,
        "editable": false,
        "nbgrader": {
          "cell_type": "code",
          "checksum": "6046902a2a27e02749420d16e2e5f903",
          "grade": true,
          "grade_id": "10",
          "locked": true,
          "points": 2,
          "schema_version": 3,
          "solution": false,
          "task": false
        },
        "id": "essential-legislation"
      },
      "outputs": [],
      "source": [
        "#Test cell-10 [2 pts]\n",
        "#DO NOT MODIFY/DELETE THIS CELL \n"
      ]
    },
    {
      "cell_type": "markdown",
      "id": "champion-match",
      "metadata": {
        "deletable": false,
        "editable": false,
        "nbgrader": {
          "cell_type": "markdown",
          "checksum": "7c1ba60f95e494088aa6aa0848fbd8b2",
          "grade": false,
          "grade_id": "q7-desc",
          "locked": true,
          "schema_version": 3,
          "solution": false,
          "task": false
        },
        "id": "champion-match"
      },
      "source": [
        "#### Q7 [10 points]. This function takes a list `l7` as an input and creates 2 more lists (`l71` and `l72`) by manipulating `l7` as follows\n",
        "-  l71 -- copy l7 into l71 and add the 1st element of l7 to the end of l71\n",
        "- l72 -- copy l71 into l72 and add the mean value of l71 to the end of l72\n",
        "- Now use `l7`, `l71` and `l72` to create a data frame `df` with corresponding column names as `first`, `second` and `third`\n",
        "- return this dataframe `df`"
      ]
    },
    {
      "cell_type": "code",
      "execution_count": 197,
      "id": "narrow-clark",
      "metadata": {
        "deletable": false,
        "nbgrader": {
          "cell_type": "code",
          "checksum": "d9347ae682c5d584f62039176f3dbf83",
          "grade": false,
          "grade_id": "q7-sol",
          "locked": false,
          "schema_version": 3,
          "solution": true,
          "task": false
        },
        "id": "narrow-clark",
        "colab": {
          "base_uri": "https://localhost:8080/",
          "height": 238
        },
        "outputId": "bd33b68e-fdc5-4ecf-a516-b244b9673f06"
      },
      "outputs": [
        {
          "output_type": "execute_result",
          "data": {
            "text/plain": [
              "   first  second  third\n",
              "0    2.0     2.0    2.0\n",
              "1    4.0     4.0    4.0\n",
              "2    6.0     6.0    6.0\n",
              "3    8.0     8.0    8.0\n",
              "4    NaN     2.0    2.0\n",
              "5    NaN     NaN    4.4"
            ],
            "text/html": [
              "\n",
              "  <div id=\"df-98d3ec35-a59f-4bcb-943e-af05ec308246\">\n",
              "    <div class=\"colab-df-container\">\n",
              "      <div>\n",
              "<style scoped>\n",
              "    .dataframe tbody tr th:only-of-type {\n",
              "        vertical-align: middle;\n",
              "    }\n",
              "\n",
              "    .dataframe tbody tr th {\n",
              "        vertical-align: top;\n",
              "    }\n",
              "\n",
              "    .dataframe thead th {\n",
              "        text-align: right;\n",
              "    }\n",
              "</style>\n",
              "<table border=\"1\" class=\"dataframe\">\n",
              "  <thead>\n",
              "    <tr style=\"text-align: right;\">\n",
              "      <th></th>\n",
              "      <th>first</th>\n",
              "      <th>second</th>\n",
              "      <th>third</th>\n",
              "    </tr>\n",
              "  </thead>\n",
              "  <tbody>\n",
              "    <tr>\n",
              "      <th>0</th>\n",
              "      <td>2.0</td>\n",
              "      <td>2.0</td>\n",
              "      <td>2.0</td>\n",
              "    </tr>\n",
              "    <tr>\n",
              "      <th>1</th>\n",
              "      <td>4.0</td>\n",
              "      <td>4.0</td>\n",
              "      <td>4.0</td>\n",
              "    </tr>\n",
              "    <tr>\n",
              "      <th>2</th>\n",
              "      <td>6.0</td>\n",
              "      <td>6.0</td>\n",
              "      <td>6.0</td>\n",
              "    </tr>\n",
              "    <tr>\n",
              "      <th>3</th>\n",
              "      <td>8.0</td>\n",
              "      <td>8.0</td>\n",
              "      <td>8.0</td>\n",
              "    </tr>\n",
              "    <tr>\n",
              "      <th>4</th>\n",
              "      <td>NaN</td>\n",
              "      <td>2.0</td>\n",
              "      <td>2.0</td>\n",
              "    </tr>\n",
              "    <tr>\n",
              "      <th>5</th>\n",
              "      <td>NaN</td>\n",
              "      <td>NaN</td>\n",
              "      <td>4.4</td>\n",
              "    </tr>\n",
              "  </tbody>\n",
              "</table>\n",
              "</div>\n",
              "      <button class=\"colab-df-convert\" onclick=\"convertToInteractive('df-98d3ec35-a59f-4bcb-943e-af05ec308246')\"\n",
              "              title=\"Convert this dataframe to an interactive table.\"\n",
              "              style=\"display:none;\">\n",
              "        \n",
              "  <svg xmlns=\"http://www.w3.org/2000/svg\" height=\"24px\"viewBox=\"0 0 24 24\"\n",
              "       width=\"24px\">\n",
              "    <path d=\"M0 0h24v24H0V0z\" fill=\"none\"/>\n",
              "    <path d=\"M18.56 5.44l.94 2.06.94-2.06 2.06-.94-2.06-.94-.94-2.06-.94 2.06-2.06.94zm-11 1L8.5 8.5l.94-2.06 2.06-.94-2.06-.94L8.5 2.5l-.94 2.06-2.06.94zm10 10l.94 2.06.94-2.06 2.06-.94-2.06-.94-.94-2.06-.94 2.06-2.06.94z\"/><path d=\"M17.41 7.96l-1.37-1.37c-.4-.4-.92-.59-1.43-.59-.52 0-1.04.2-1.43.59L10.3 9.45l-7.72 7.72c-.78.78-.78 2.05 0 2.83L4 21.41c.39.39.9.59 1.41.59.51 0 1.02-.2 1.41-.59l7.78-7.78 2.81-2.81c.8-.78.8-2.07 0-2.86zM5.41 20L4 18.59l7.72-7.72 1.47 1.35L5.41 20z\"/>\n",
              "  </svg>\n",
              "      </button>\n",
              "      \n",
              "  <style>\n",
              "    .colab-df-container {\n",
              "      display:flex;\n",
              "      flex-wrap:wrap;\n",
              "      gap: 12px;\n",
              "    }\n",
              "\n",
              "    .colab-df-convert {\n",
              "      background-color: #E8F0FE;\n",
              "      border: none;\n",
              "      border-radius: 50%;\n",
              "      cursor: pointer;\n",
              "      display: none;\n",
              "      fill: #1967D2;\n",
              "      height: 32px;\n",
              "      padding: 0 0 0 0;\n",
              "      width: 32px;\n",
              "    }\n",
              "\n",
              "    .colab-df-convert:hover {\n",
              "      background-color: #E2EBFA;\n",
              "      box-shadow: 0px 1px 2px rgba(60, 64, 67, 0.3), 0px 1px 3px 1px rgba(60, 64, 67, 0.15);\n",
              "      fill: #174EA6;\n",
              "    }\n",
              "\n",
              "    [theme=dark] .colab-df-convert {\n",
              "      background-color: #3B4455;\n",
              "      fill: #D2E3FC;\n",
              "    }\n",
              "\n",
              "    [theme=dark] .colab-df-convert:hover {\n",
              "      background-color: #434B5C;\n",
              "      box-shadow: 0px 1px 3px 1px rgba(0, 0, 0, 0.15);\n",
              "      filter: drop-shadow(0px 1px 2px rgba(0, 0, 0, 0.3));\n",
              "      fill: #FFFFFF;\n",
              "    }\n",
              "  </style>\n",
              "\n",
              "      <script>\n",
              "        const buttonEl =\n",
              "          document.querySelector('#df-98d3ec35-a59f-4bcb-943e-af05ec308246 button.colab-df-convert');\n",
              "        buttonEl.style.display =\n",
              "          google.colab.kernel.accessAllowed ? 'block' : 'none';\n",
              "\n",
              "        async function convertToInteractive(key) {\n",
              "          const element = document.querySelector('#df-98d3ec35-a59f-4bcb-943e-af05ec308246');\n",
              "          const dataTable =\n",
              "            await google.colab.kernel.invokeFunction('convertToInteractive',\n",
              "                                                     [key], {});\n",
              "          if (!dataTable) return;\n",
              "\n",
              "          const docLinkHtml = 'Like what you see? Visit the ' +\n",
              "            '<a target=\"_blank\" href=https://colab.research.google.com/notebooks/data_table.ipynb>data table notebook</a>'\n",
              "            + ' to learn more about interactive tables.';\n",
              "          element.innerHTML = '';\n",
              "          dataTable['output_type'] = 'display_data';\n",
              "          await google.colab.output.renderOutput(dataTable, element);\n",
              "          const docLink = document.createElement('div');\n",
              "          docLink.innerHTML = docLinkHtml;\n",
              "          element.appendChild(docLink);\n",
              "        }\n",
              "      </script>\n",
              "    </div>\n",
              "  </div>\n",
              "  "
            ]
          },
          "metadata": {},
          "execution_count": 197
        }
      ],
      "source": [
        "    \"\"\"Returns the dataframe that is built using an original list\n",
        "    \"\"\"\n",
        "def createDF(l7):\n",
        "  l71 = l7.copy()\n",
        "  l71.append(l7[0])\n",
        "  l72 = l71.copy()\n",
        "  l72.append(sum(l71)/len(l71))\n",
        "  d = {'first': pd.Series(l7), 'second': pd.Series(l71), 'third': pd.Series(l72)}\n",
        "  df = pd.DataFrame(d)\n",
        "  return df\n",
        "\n",
        "list7=[2,4,6,8]\n",
        "createDF(list7)"
      ]
    },
    {
      "cell_type": "code",
      "execution_count": 198,
      "id": "prerequisite-eagle",
      "metadata": {
        "deletable": false,
        "editable": false,
        "nbgrader": {
          "cell_type": "code",
          "checksum": "70d2893d8ad54c45b54e643057b5d8b4",
          "grade": true,
          "grade_id": "11",
          "locked": true,
          "points": 5,
          "schema_version": 3,
          "solution": false,
          "task": false
        },
        "id": "prerequisite-eagle"
      },
      "outputs": [],
      "source": [
        "#Test cell-11 [5 pts]\n",
        "#DO NOT MODIFY/DELETE THIS CELL \n",
        "\n",
        "'''case-1'''\n",
        "list7=[2,4,6,8]\n",
        "assert list(createDF(list7)['second'])[:5]==[2.0,4.0,6.0,8.0,2.0]\n",
        "\n",
        "'''case-2'''\n",
        "list7=[2,4,6,8]\n",
        "assert list(createDF(list7)['first'])[:4]==[2,4,6,8]\n"
      ]
    },
    {
      "cell_type": "code",
      "execution_count": 199,
      "id": "perfect-paintball",
      "metadata": {
        "deletable": false,
        "editable": false,
        "nbgrader": {
          "cell_type": "code",
          "checksum": "27c07e6646f73aa6aa1d90fe401c4143",
          "grade": true,
          "grade_id": "12",
          "locked": true,
          "points": 5,
          "schema_version": 3,
          "solution": false,
          "task": false
        },
        "id": "perfect-paintball"
      },
      "outputs": [],
      "source": [
        "#Test cell-12 [5 pts]\n",
        "#DO NOT MODIFY/DELETE THIS CELL \n"
      ]
    },
    {
      "cell_type": "markdown",
      "id": "favorite-throat",
      "metadata": {
        "deletable": false,
        "editable": false,
        "nbgrader": {
          "cell_type": "markdown",
          "checksum": "e2d818d45b8acec078a61efec054927f",
          "grade": false,
          "grade_id": "q8-desc",
          "locked": true,
          "schema_version": 3,
          "solution": false,
          "task": false
        },
        "id": "favorite-throat"
      },
      "source": [
        "#### Q8 [10 points]. Read the .csv file from this url and load it into dataframe 'df'\n",
        "- Using pandas dataframe operations, output the total number of rows with `survived`==1 and `gender` is `female` as `var81`.\n",
        "- Using pandas dataframe operations, output the total number of rows with `survived`==1 and `gender` is `male` as  `var82`. \n"
      ]
    },
    {
      "cell_type": "code",
      "execution_count": 200,
      "id": "permanent-pearl",
      "metadata": {
        "deletable": false,
        "nbgrader": {
          "cell_type": "code",
          "checksum": "37e8578894be22b40cd73385bbc8ed3f",
          "grade": false,
          "grade_id": "q8-sol",
          "locked": false,
          "schema_version": 3,
          "solution": true,
          "task": false
        },
        "id": "permanent-pearl"
      },
      "outputs": [],
      "source": [
        "url = 'https://raw.githubusercontent.com/lmanikon/lmanikon.github.io/master/teaching/datasets/titanic.csv'\n",
        "\n",
        "df = pd.read_csv(url)\n",
        "\n",
        "df1 = df[(df['survived'] == 1) & (df['gender'] == 'female')]\n",
        "df2 = df[(df['survived'] == 1) & (df['gender'] == 'male')]\n",
        "\n",
        "var81 = len(df1)\n",
        "var82 = len(df2)"
      ]
    },
    {
      "cell_type": "code",
      "execution_count": 201,
      "id": "fallen-chrome",
      "metadata": {
        "deletable": false,
        "editable": false,
        "nbgrader": {
          "cell_type": "code",
          "checksum": "001c0844b2b1fe62c734e8c4e5585d83",
          "grade": true,
          "grade_id": "13",
          "locked": true,
          "points": 6,
          "schema_version": 3,
          "solution": false,
          "task": false
        },
        "id": "fallen-chrome"
      },
      "outputs": [],
      "source": [
        "#Test cell-13 [6 pts]\n",
        "#DO NOT MODIFY/DELETE THIS CELL \n",
        "\n",
        "assert df['age'].sum()==21205.17\n",
        "assert df.isnull().sum().sum()==869\n",
        "assert var82==109\n"
      ]
    },
    {
      "cell_type": "code",
      "execution_count": 202,
      "id": "hollywood-apache",
      "metadata": {
        "deletable": false,
        "editable": false,
        "nbgrader": {
          "cell_type": "code",
          "checksum": "30202463e514b9e6a7ae5c53ae4016dd",
          "grade": true,
          "grade_id": "14",
          "locked": true,
          "points": 4,
          "schema_version": 3,
          "solution": false,
          "task": false
        },
        "id": "hollywood-apache"
      },
      "outputs": [],
      "source": [
        "#Test cell-14 [4 pts]\n",
        "#DO NOT MODIFY/DELETE THIS CELL "
      ]
    },
    {
      "cell_type": "markdown",
      "id": "crude-analysis",
      "metadata": {
        "deletable": false,
        "editable": false,
        "nbgrader": {
          "cell_type": "markdown",
          "checksum": "4b3a66ae5107de4e5b1087aa869bdc7b",
          "grade": false,
          "grade_id": "q9-desc",
          "locked": true,
          "schema_version": 3,
          "solution": false,
          "task": false
        },
        "id": "crude-analysis"
      },
      "source": [
        "#### Q9 [10 points]. Read the .csv file from this url and load it into dataframe `df`\n",
        "#### Using groupby operation over `embark_town` and `gender`, \n",
        "- assign `var9` as the total number of people survived (`survived` is 1), where they embarked (`embark_town`) at `Southampton` and are female (`gender` is `female`). \n"
      ]
    },
    {
      "cell_type": "code",
      "execution_count": 203,
      "id": "introductory-phrase",
      "metadata": {
        "deletable": false,
        "nbgrader": {
          "cell_type": "code",
          "checksum": "d459e9f629c2fc616f1182816a1583f8",
          "grade": false,
          "grade_id": "q9-sol",
          "locked": false,
          "schema_version": 3,
          "solution": true,
          "task": false
        },
        "id": "introductory-phrase"
      },
      "outputs": [],
      "source": [
        "url='https://raw.githubusercontent.com/lmanikon/lmanikon.github.io/master/teaching/datasets/titanic.csv'\n",
        "\n",
        "df = pd.read_csv(url)\n",
        "\n",
        "gb = df.groupby(['embark_town', 'gender']).survived.sum()\n",
        "var9 = gb['Southampton', 'female']\n"
      ]
    },
    {
      "cell_type": "code",
      "execution_count": 204,
      "id": "confused-editor",
      "metadata": {
        "deletable": false,
        "editable": false,
        "nbgrader": {
          "cell_type": "code",
          "checksum": "9d4228fae1256073a96fafeb7222db30",
          "grade": true,
          "grade_id": "15",
          "locked": true,
          "points": 10,
          "schema_version": 3,
          "solution": false,
          "task": false
        },
        "id": "confused-editor"
      },
      "outputs": [],
      "source": [
        "#Test cell-15 [10 pts]\n",
        "#DO NOT MODIFY/DELETE THIS CELL \n",
        "\n",
        "assert df['age'].sum()==21205.17\n",
        "assert df.isnull().sum().sum()==869\n",
        "assert len(df.columns)==15\n",
        "assert var9==140"
      ]
    }
  ],
  "metadata": {
    "kernelspec": {
      "display_name": "Python 3",
      "language": "python",
      "name": "python3"
    },
    "language_info": {
      "codemirror_mode": {
        "name": "ipython",
        "version": 3
      },
      "file_extension": ".py",
      "mimetype": "text/x-python",
      "name": "python",
      "nbconvert_exporter": "python",
      "pygments_lexer": "ipython3",
      "version": "3.7.10"
    },
    "colab": {
      "provenance": [],
      "collapsed_sections": []
    }
  },
  "nbformat": 4,
  "nbformat_minor": 5
}